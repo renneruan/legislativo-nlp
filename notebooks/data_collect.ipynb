{
 "cells": [
  {
   "cell_type": "code",
   "execution_count": 1,
   "id": "40380aed",
   "metadata": {},
   "outputs": [],
   "source": [
    "# !pip install pandas requests"
   ]
  },
  {
   "cell_type": "code",
   "execution_count": 2,
   "id": "198d4872",
   "metadata": {},
   "outputs": [],
   "source": [
    "# !pip install pdfminer.six"
   ]
  },
  {
   "cell_type": "code",
   "execution_count": 3,
   "id": "4b57c0a3",
   "metadata": {},
   "outputs": [],
   "source": [
    "# !pip install beautifulsoup4"
   ]
  },
  {
   "cell_type": "code",
   "execution_count": null,
   "id": "b303833d",
   "metadata": {},
   "outputs": [],
   "source": [
    "# !pip install tqdm"
   ]
  },
  {
   "cell_type": "markdown",
   "id": "fa5034a2",
   "metadata": {},
   "source": [
    "Objetivo:\n",
    "\n",
    "Resgatar dados que auxiliem no acompanhamento das informações dos eventos do legislativo.\n",
    "\n",
    "\n",
    "Como recuperar algo que seja do interesse de determinado tema?\n",
    "Como recuperar algo que seja de interesse de outro órgão ou tipo de interessado?\n",
    "\n",
    "\n",
    "Facilita a organização e o processo de informação frente a quantia de eventos na agenda, possibilitando gerar alertas caso algo que esteja presente em pauta impacte os interessados. Posteriormente é possível analisar o quanto determinada pauta ou assunto interfira e seja benéfico para população (de forma subjetiva usando LLMs)."
   ]
  },
  {
   "cell_type": "code",
   "execution_count": 4,
   "id": "ac5660c2",
   "metadata": {},
   "outputs": [],
   "source": [
    "import pandas as pd\n",
    "import requests\n",
    "from datetime import datetime, timedelta\n",
    "\n",
    "from pdfminer.high_level import extract_text\n",
    "from bs4 import BeautifulSoup\n",
    "\n",
    "from urllib.parse import urlparse, parse_qs\n",
    "import os\n"
   ]
  },
  {
   "cell_type": "markdown",
   "id": "8ea38ffe",
   "metadata": {},
   "source": [
    "Checar se o dia da semana é final de semana, de forma a condicionar de pegar a agenda dessa semana ou da próxima."
   ]
  },
  {
   "cell_type": "code",
   "execution_count": 5,
   "id": "72ad34bb",
   "metadata": {},
   "outputs": [
    {
     "name": "stdout",
     "output_type": "stream",
     "text": [
      "Data de início: 2025-06-29\n",
      "Data de fim: 2025-07-05\n"
     ]
    }
   ],
   "source": [
    "today = datetime.today()\n",
    "weekday = today.weekday()\n",
    "\n",
    "if weekday < 5:\n",
    "    start_date = today\n",
    "\n",
    "    days_until_saturday = 5 - today.weekday() # Sábado é valor 5 \n",
    "    end_date = today + timedelta(days=days_until_saturday)\n",
    "\n",
    "elif weekday == 5:\n",
    "    start_date = today + timedelta(days=1)\n",
    "    end_date = today + timedelta(days=7)\n",
    "\n",
    "else:\n",
    "    start_date = today\n",
    "    end_date = today + timedelta(days=6)\n",
    "\n",
    "\n",
    "print(f\"Data de início: {start_date.strftime('%Y-%m-%d')}\")\n",
    "print(f\"Data de fim: {end_date.strftime('%Y-%m-%d')}\")\n"
   ]
  },
  {
   "cell_type": "code",
   "execution_count": 6,
   "id": "142be150",
   "metadata": {},
   "outputs": [],
   "source": [
    "def get_events(start_date, end_date, itens_per_page=100):\n",
    "    url = \"https://dadosabertos.camara.leg.br/api/v2/eventos\"\n",
    "    headers = {\n",
    "        \"Accept\": \"application/json\"\n",
    "    }\n",
    "\n",
    "    page = 1\n",
    "    events = []\n",
    "    while True:\n",
    "        params = {\n",
    "            \"dataInicio\": start_date,\n",
    "            \"dataFim\": end_date,\n",
    "            \"ordenarPor\": \"dataHoraInicio\",\n",
    "            \"itens\": itens_per_page,\n",
    "            \"ordem\": \"ASC\",\n",
    "            \"pagina\": page\n",
    "        }\n",
    "\n",
    "        response = requests.get(url, params=params, headers=headers)\n",
    "\n",
    "        if response.status_code != 200:\n",
    "            print(f\"Erro ao requisitar página {page}: {response.status_code}\")\n",
    "            break\n",
    "\n",
    "        data = response.json()[\"dados\"]\n",
    "\n",
    "        if not data:\n",
    "            break\n",
    "\n",
    "        events.extend(data)\n",
    "        print(f\"Página {page} carregada com {len(data)} eventos.\")\n",
    "        page += 1\n",
    "\n",
    "    return events"
   ]
  },
  {
   "cell_type": "code",
   "execution_count": 7,
   "id": "a16d0778",
   "metadata": {},
   "outputs": [
    {
     "name": "stdout",
     "output_type": "stream",
     "text": [
      "Página 1 carregada com 80 eventos.\n"
     ]
    }
   ],
   "source": [
    "events = get_events(\n",
    "    start_date=start_date.strftime('%Y-%m-%d'),\n",
    "    end_date=end_date.strftime('%Y-%m-%d'))"
   ]
  },
  {
   "cell_type": "code",
   "execution_count": 8,
   "id": "6a28e09f",
   "metadata": {},
   "outputs": [
    {
     "name": "stdout",
     "output_type": "stream",
     "text": [
      "Total de eventos encontrados: 80\n"
     ]
    }
   ],
   "source": [
    "print(f\"Total de eventos encontrados: {len(events)}\")"
   ]
  },
  {
   "cell_type": "code",
   "execution_count": 9,
   "id": "ead4b0cc",
   "metadata": {},
   "outputs": [
    {
     "data": {
      "text/html": [
       "<div>\n",
       "<style scoped>\n",
       "    .dataframe tbody tr th:only-of-type {\n",
       "        vertical-align: middle;\n",
       "    }\n",
       "\n",
       "    .dataframe tbody tr th {\n",
       "        vertical-align: top;\n",
       "    }\n",
       "\n",
       "    .dataframe thead th {\n",
       "        text-align: right;\n",
       "    }\n",
       "</style>\n",
       "<table border=\"1\" class=\"dataframe\">\n",
       "  <thead>\n",
       "    <tr style=\"text-align: right;\">\n",
       "      <th></th>\n",
       "      <th>id</th>\n",
       "      <th>uri</th>\n",
       "      <th>dataHoraInicio</th>\n",
       "      <th>dataHoraFim</th>\n",
       "      <th>situacao</th>\n",
       "      <th>descricaoTipo</th>\n",
       "      <th>descricao</th>\n",
       "      <th>localExterno</th>\n",
       "      <th>orgaos</th>\n",
       "      <th>localCamara</th>\n",
       "      <th>urlRegistro</th>\n",
       "    </tr>\n",
       "  </thead>\n",
       "  <tbody>\n",
       "    <tr>\n",
       "      <th>0</th>\n",
       "      <td>75916</td>\n",
       "      <td>https://dadosabertos.camara.leg.br/api/v2/even...</td>\n",
       "      <td>2025-07-01T10:00</td>\n",
       "      <td>None</td>\n",
       "      <td>Cancelada</td>\n",
       "      <td>Audiência Pública</td>\n",
       "      <td>Adaptação das Estruturas Físicas das Escolas F...</td>\n",
       "      <td>Plenário a definir</td>\n",
       "      <td>[{'id': 2009, 'uri': 'https://dadosabertos.cam...</td>\n",
       "      <td>{'nome': None, 'predio': None, 'sala': None, '...</td>\n",
       "      <td>None</td>\n",
       "    </tr>\n",
       "    <tr>\n",
       "      <th>1</th>\n",
       "      <td>76160</td>\n",
       "      <td>https://dadosabertos.camara.leg.br/api/v2/even...</td>\n",
       "      <td>2025-07-01T13:00</td>\n",
       "      <td>None</td>\n",
       "      <td>Convocada</td>\n",
       "      <td>Audiência Pública</td>\n",
       "      <td>Planejamento e Diretrizes das ações do Governo...</td>\n",
       "      <td>None</td>\n",
       "      <td>[{'id': 537480, 'uri': 'https://dadosabertos.c...</td>\n",
       "      <td>{'nome': 'Anexo II, Plenário 13', 'predio': No...</td>\n",
       "      <td>None</td>\n",
       "    </tr>\n",
       "    <tr>\n",
       "      <th>2</th>\n",
       "      <td>76192</td>\n",
       "      <td>https://dadosabertos.camara.leg.br/api/v2/even...</td>\n",
       "      <td>2025-07-01T13:00</td>\n",
       "      <td>None</td>\n",
       "      <td>Convocada</td>\n",
       "      <td>Seminário</td>\n",
       "      <td>Inclusão de diretrizes para uma educação antir...</td>\n",
       "      <td>None</td>\n",
       "      <td>[{'id': 539384, 'uri': 'https://dadosabertos.c...</td>\n",
       "      <td>{'nome': 'Anexo II, Plenário 12', 'predio': No...</td>\n",
       "      <td>None</td>\n",
       "    </tr>\n",
       "    <tr>\n",
       "      <th>3</th>\n",
       "      <td>76323</td>\n",
       "      <td>https://dadosabertos.camara.leg.br/api/v2/even...</td>\n",
       "      <td>2025-07-02T11:00</td>\n",
       "      <td>None</td>\n",
       "      <td>Agendada</td>\n",
       "      <td>Sessão Não Deliberativa Solene</td>\n",
       "      <td>Homenagem aos 77 anos da Nakba, a catástrofe p...</td>\n",
       "      <td>None</td>\n",
       "      <td>[{'id': 180, 'uri': 'https://dadosabertos.cama...</td>\n",
       "      <td>{'nome': 'Plenário da Câmara dos Deputados', '...</td>\n",
       "      <td>None</td>\n",
       "    </tr>\n",
       "    <tr>\n",
       "      <th>4</th>\n",
       "      <td>76326</td>\n",
       "      <td>https://dadosabertos.camara.leg.br/api/v2/even...</td>\n",
       "      <td>2025-07-02T09:00</td>\n",
       "      <td>None</td>\n",
       "      <td>Agendada</td>\n",
       "      <td>Sessão Não Deliberativa Solene</td>\n",
       "      <td>Homenagem aos 20 anos do Instituto Sabin\\r\\n S...</td>\n",
       "      <td>None</td>\n",
       "      <td>[{'id': 180, 'uri': 'https://dadosabertos.cama...</td>\n",
       "      <td>{'nome': 'Plenário da Câmara dos Deputados', '...</td>\n",
       "      <td>None</td>\n",
       "    </tr>\n",
       "  </tbody>\n",
       "</table>\n",
       "</div>"
      ],
      "text/plain": [
       "      id                                                uri    dataHoraInicio  \\\n",
       "0  75916  https://dadosabertos.camara.leg.br/api/v2/even...  2025-07-01T10:00   \n",
       "1  76160  https://dadosabertos.camara.leg.br/api/v2/even...  2025-07-01T13:00   \n",
       "2  76192  https://dadosabertos.camara.leg.br/api/v2/even...  2025-07-01T13:00   \n",
       "3  76323  https://dadosabertos.camara.leg.br/api/v2/even...  2025-07-02T11:00   \n",
       "4  76326  https://dadosabertos.camara.leg.br/api/v2/even...  2025-07-02T09:00   \n",
       "\n",
       "  dataHoraFim   situacao                   descricaoTipo  \\\n",
       "0        None  Cancelada               Audiência Pública   \n",
       "1        None  Convocada               Audiência Pública   \n",
       "2        None  Convocada                       Seminário   \n",
       "3        None   Agendada  Sessão Não Deliberativa Solene   \n",
       "4        None   Agendada  Sessão Não Deliberativa Solene   \n",
       "\n",
       "                                           descricao        localExterno  \\\n",
       "0  Adaptação das Estruturas Físicas das Escolas F...  Plenário a definir   \n",
       "1  Planejamento e Diretrizes das ações do Governo...                None   \n",
       "2  Inclusão de diretrizes para uma educação antir...                None   \n",
       "3  Homenagem aos 77 anos da Nakba, a catástrofe p...                None   \n",
       "4  Homenagem aos 20 anos do Instituto Sabin\\r\\n S...                None   \n",
       "\n",
       "                                              orgaos  \\\n",
       "0  [{'id': 2009, 'uri': 'https://dadosabertos.cam...   \n",
       "1  [{'id': 537480, 'uri': 'https://dadosabertos.c...   \n",
       "2  [{'id': 539384, 'uri': 'https://dadosabertos.c...   \n",
       "3  [{'id': 180, 'uri': 'https://dadosabertos.cama...   \n",
       "4  [{'id': 180, 'uri': 'https://dadosabertos.cama...   \n",
       "\n",
       "                                         localCamara urlRegistro  \n",
       "0  {'nome': None, 'predio': None, 'sala': None, '...        None  \n",
       "1  {'nome': 'Anexo II, Plenário 13', 'predio': No...        None  \n",
       "2  {'nome': 'Anexo II, Plenário 12', 'predio': No...        None  \n",
       "3  {'nome': 'Plenário da Câmara dos Deputados', '...        None  \n",
       "4  {'nome': 'Plenário da Câmara dos Deputados', '...        None  "
      ]
     },
     "execution_count": 9,
     "metadata": {},
     "output_type": "execute_result"
    }
   ],
   "source": [
    "events_df = pd.DataFrame(events)\n",
    "events_df.head()"
   ]
  },
  {
   "cell_type": "markdown",
   "id": "7d1b8bcb",
   "metadata": {},
   "source": [
    "Temos que um evento pode estar associado a várias comissões, elas estão dispostas na coluna órgãos. Pode ser interessante realizar um repasse dos dataframes para SQL de forma que possamos pegar informações estatísticas atreladas também as comissões. Não podemos garantir que sempre terá apenas uma comissão associada."
   ]
  },
  {
   "cell_type": "code",
   "execution_count": 10,
   "id": "fe870150",
   "metadata": {},
   "outputs": [
    {
     "data": {
      "text/plain": [
       "[{'id': 2009,\n",
       "  'uri': 'https://dadosabertos.camara.leg.br/api/v2/orgaos/2009',\n",
       "  'sigla': 'CE',\n",
       "  'nome': 'Comissão de Educação',\n",
       "  'apelido': 'Educação',\n",
       "  'codTipoOrgao': 2,\n",
       "  'tipoOrgao': 'Comissão Permanente',\n",
       "  'nomePublicacao': 'Comissão de Educação',\n",
       "  'nomeResumido': 'Educação'}]"
      ]
     },
     "execution_count": 10,
     "metadata": {},
     "output_type": "execute_result"
    }
   ],
   "source": [
    "event_sample = events_df.iloc[0]\n",
    "event_sample.orgaos"
   ]
  },
  {
   "cell_type": "markdown",
   "id": "be6b914c",
   "metadata": {},
   "source": [
    "Analisando a URL disposta nos dados, obtemos um XML com informações adicionais e links interessantes."
   ]
  },
  {
   "cell_type": "code",
   "execution_count": 11,
   "id": "8971f4f3",
   "metadata": {},
   "outputs": [
    {
     "data": {
      "text/plain": [
       "'https://dadosabertos.camara.leg.br/api/v2/eventos/75916'"
      ]
     },
     "execution_count": 11,
     "metadata": {},
     "output_type": "execute_result"
    }
   ],
   "source": [
    "event_sample.uri"
   ]
  },
  {
   "cell_type": "code",
   "execution_count": 12,
   "id": "72b4bd74",
   "metadata": {},
   "outputs": [
    {
     "name": "stdout",
     "output_type": "stream",
     "text": [
      "Detalhes resgatados: {'dados': {'uriDeputados': None, 'uriConvidados': None, 'fases': None, 'id': 75916, 'uri': 'https://dadosabertos.camara.leg.br/api/v2/eventos/75916', 'dataHoraInicio': '2025-07-01T10:00', 'dataHoraFim': None, 'situacao': 'Cancelada', 'descricaoTipo': 'Audiência Pública', 'descricao': 'Adaptação das Estruturas Físicas das Escolas Frente às Mudanças Climáticas\\r\\n 1)   (a Confirmar) Representante do  Ministério da Educação (MEC);\\r\\n\\r\\n2) (a Confirmar)  Representante do  Ministério do Meio Ambiente e Mudança do Clima; \\r\\n\\r\\n3)  (a Confirmar)  Representante do Conselho Nacional de Secretários de Educação; \\r\\n\\r\\n4)  (a Confirmar) Representante da União Nacional dos Dirigentes Municipais de Educação (Undime); \\r\\n\\r\\n5) CAYO ALCÂNTARA  (Confirmado) - Professor e Diretor-Executivo de ‘A Vida No Cerrado’; \\r\\n\\r\\n6) HAROLDO ROCHA (Confirmado) - Representante do Instituto Península e do Movimento Profissão Docente ;\\r\\n\\r\\n7) (a Confirmar) Representante do Instituto Alana; \\r\\n\\r\\n(REQ 2/2025 CE, da deputada Socorro Neri)', 'localExterno': 'Plenário a definir', 'orgaos': [{'id': 2009, 'uri': 'https://dadosabertos.camara.leg.br/api/v2/orgaos/2009', 'sigla': 'CE', 'nome': 'Comissão de Educação', 'apelido': 'Educação', 'codTipoOrgao': 2, 'tipoOrgao': 'Comissão Permanente', 'nomePublicacao': 'Comissão de Educação', 'nomeResumido': 'Educação'}], 'requerimentos': [{'titulo': 'REQ 2/2025 CE', 'uri': 'https://dadosabertos.camara.leg.br/api/v2/proposicoes/2487727'}], 'localCamara': {'nome': None, 'predio': None, 'sala': None, 'andar': None}, 'urlDocumentoPauta': 'https://dadosabertos.camara.leg.br/api/v2/eventos/75916/pauta', 'urlRegistro': None}, 'links': [{'rel': 'self', 'href': 'https://dadosabertos.camara.leg.br/api/v2/eventos/75916'}]}\n"
     ]
    }
   ],
   "source": [
    "event_detail_url = event_sample.uri\n",
    "\n",
    "response = requests.get(event_detail_url, headers={\"Accept\": \"application/json\"})\n",
    "\n",
    "if response.status_code == 200:\n",
    "    event_detail = response.json()\n",
    "    print(f\"Detalhes resgatados: {event_detail}\")\n",
    "else:\n",
    "    print(f\"Erro na requisição de detalhes {response.status_code}\")\n"
   ]
  },
  {
   "cell_type": "code",
   "execution_count": 13,
   "id": "d0a31e15",
   "metadata": {},
   "outputs": [
    {
     "data": {
      "text/plain": [
       "{'dados': {'uriDeputados': None,\n",
       "  'uriConvidados': None,\n",
       "  'fases': None,\n",
       "  'id': 75916,\n",
       "  'uri': 'https://dadosabertos.camara.leg.br/api/v2/eventos/75916',\n",
       "  'dataHoraInicio': '2025-07-01T10:00',\n",
       "  'dataHoraFim': None,\n",
       "  'situacao': 'Cancelada',\n",
       "  'descricaoTipo': 'Audiência Pública',\n",
       "  'descricao': 'Adaptação das Estruturas Físicas das Escolas Frente às Mudanças Climáticas\\r\\n 1)   (a Confirmar) Representante do  Ministério da Educação (MEC);\\r\\n\\r\\n2) (a Confirmar)  Representante do  Ministério do Meio Ambiente e Mudança do Clima; \\r\\n\\r\\n3)  (a Confirmar)  Representante do Conselho Nacional de Secretários de Educação; \\r\\n\\r\\n4)  (a Confirmar) Representante da União Nacional dos Dirigentes Municipais de Educação (Undime); \\r\\n\\r\\n5) CAYO ALCÂNTARA  (Confirmado) - Professor e Diretor-Executivo de ‘A Vida No Cerrado’; \\r\\n\\r\\n6) HAROLDO ROCHA (Confirmado) - Representante do Instituto Península e do Movimento Profissão Docente ;\\r\\n\\r\\n7) (a Confirmar) Representante do Instituto Alana; \\r\\n\\r\\n(REQ 2/2025 CE, da deputada Socorro Neri)',\n",
       "  'localExterno': 'Plenário a definir',\n",
       "  'orgaos': [{'id': 2009,\n",
       "    'uri': 'https://dadosabertos.camara.leg.br/api/v2/orgaos/2009',\n",
       "    'sigla': 'CE',\n",
       "    'nome': 'Comissão de Educação',\n",
       "    'apelido': 'Educação',\n",
       "    'codTipoOrgao': 2,\n",
       "    'tipoOrgao': 'Comissão Permanente',\n",
       "    'nomePublicacao': 'Comissão de Educação',\n",
       "    'nomeResumido': 'Educação'}],\n",
       "  'requerimentos': [{'titulo': 'REQ 2/2025 CE',\n",
       "    'uri': 'https://dadosabertos.camara.leg.br/api/v2/proposicoes/2487727'}],\n",
       "  'localCamara': {'nome': None, 'predio': None, 'sala': None, 'andar': None},\n",
       "  'urlDocumentoPauta': 'https://dadosabertos.camara.leg.br/api/v2/eventos/75916/pauta',\n",
       "  'urlRegistro': None},\n",
       " 'links': [{'rel': 'self',\n",
       "   'href': 'https://dadosabertos.camara.leg.br/api/v2/eventos/75916'}]}"
      ]
     },
     "execution_count": 13,
     "metadata": {},
     "output_type": "execute_result"
    }
   ],
   "source": [
    "event_detail"
   ]
  },
  {
   "cell_type": "markdown",
   "id": "38d1351c",
   "metadata": {},
   "source": [
    "A partir daqui temos alguns caminhos interessantes para explorar, como:\n",
    "\n",
    "- Requerimentos, temos o link do requerimento associado ao evento\n",
    "- Pautas: Podemos ter um sumário diferente ao que o evento se refere, nas pautas também podemos encontrar os convidades e representantes necessários para o evento.\n",
    "\n",
    "A informação de convidados pelo que é visto ao acessar os documentos é repetida em ambos, porém alguns eventos não possuem requerimento, apenas pauta.\n",
    "\n",
    "Essa resposta de detalhes está defasada em alguns pontos:\n",
    "- Temos que links leva a si mesmo\n",
    "- 'urlDocumentoPauta' também não é válido e leva a um XML simples que não possui tanta informação. Devido a isso devemos achar outra forma de encontrar a pauta. Pensando nisso adentrei em uma pauta manual pelo site da agenda, podemos realizar um Webscrap com a url base, alterando apenas o código da pauta."
   ]
  },
  {
   "cell_type": "code",
   "execution_count": 14,
   "id": "341f3897",
   "metadata": {},
   "outputs": [
    {
     "data": {
      "text/plain": [
       "'https://www.camara.leg.br/evento-legislativo/75916'"
      ]
     },
     "execution_count": 14,
     "metadata": {},
     "output_type": "execute_result"
    }
   ],
   "source": [
    "event_id = event_detail[\"dados\"][\"id\"]\n",
    "event_url = f\"https://www.camara.leg.br/evento-legislativo/{event_id}\"\n",
    "event_url"
   ]
  },
  {
   "cell_type": "markdown",
   "id": "5797aff7",
   "metadata": {},
   "source": [
    "Verificando o site da câmara para extrair a pauta temos:\n",
    "(inserir imagem)\n",
    "\n",
    "\n",
    "Com isso podemos utilizar o BeautifulSoup para extrair o link necessário de acesso a Pauta."
   ]
  },
  {
   "cell_type": "code",
   "execution_count": 15,
   "id": "3b010f2f",
   "metadata": {},
   "outputs": [
    {
     "name": "stdout",
     "output_type": "stream",
     "text": [
      "Texto: Requerimento\n",
      "Link: https://www.camara.leg.br/proposicoesWeb/prop_mostrarintegra?codteor=2869237\n",
      "Texto: Documentos da reunião\n",
      "Link: #documentos-modal\n",
      "Texto: Pauta\n",
      "Link: https://www.camara.leg.br/proposicoesWeb/prop_mostrarintegra?codteor=2923746\n"
     ]
    }
   ],
   "source": [
    "# Necessário para webscrap para que o requests aja como um navegador\n",
    "headers = {\n",
    "    \"User-Agent\": \"Mozilla/5.0\"\n",
    "}\n",
    "\n",
    "response_event = requests.get(event_url, headers=headers)\n",
    "\n",
    "if response_event.status_code == 200:\n",
    "    soup_event = BeautifulSoup(response_event.text, \"html.parser\")\n",
    "    itens = soup_event.find_all(class_=\"links-adicionais__item\")\n",
    "\n",
    "    cleaned_links = {}\n",
    "    for item in itens:\n",
    "        texto = item.get_text(strip=True)\n",
    "        link = item.find(\"a\")[\"href\"] if item.find(\"a\") else None\n",
    "\n",
    "        cleaned_links[texto] = link\n",
    "        \n",
    "        print(f\"Texto: {texto}\")\n",
    "        print(f\"Link: {link}\")\n",
    "else:\n",
    "    print(f\"Erro ao acessar a página: {response.status_code}\")"
   ]
  },
  {
   "cell_type": "markdown",
   "id": "92ec6e0a",
   "metadata": {},
   "source": [
    "Aqui temos por exemplo o link também para o requerimento."
   ]
  },
  {
   "cell_type": "code",
   "execution_count": 16,
   "id": "272fb858",
   "metadata": {},
   "outputs": [
    {
     "data": {
      "text/plain": [
       "{'Requerimento': 'https://www.camara.leg.br/proposicoesWeb/prop_mostrarintegra?codteor=2869237',\n",
       " 'Documentos da reunião': '#documentos-modal',\n",
       " 'Pauta': 'https://www.camara.leg.br/proposicoesWeb/prop_mostrarintegra?codteor=2923746'}"
      ]
     },
     "execution_count": 16,
     "metadata": {},
     "output_type": "execute_result"
    }
   ],
   "source": [
    "cleaned_links"
   ]
  },
  {
   "cell_type": "code",
   "execution_count": 17,
   "id": "b7d14bfa",
   "metadata": {},
   "outputs": [],
   "source": [
    "# Necessário para webscrap para que o requests aja como um navegador\n",
    "headers = {\n",
    "    \"User-Agent\": \"Mozilla/5.0\"\n",
    "}\n",
    "\n",
    "response_topics = requests.get(cleaned_links['Pauta'], headers=headers)\n",
    "if response_topics.status_code != 200:\n",
    "    raise Exception(f\"Erro {response_topics.status_code}\")\n",
    "\n",
    "soup_topics = BeautifulSoup(response_topics.text, \"html.parser\")\n"
   ]
  },
  {
   "cell_type": "code",
   "execution_count": 18,
   "id": "0db04d17",
   "metadata": {},
   "outputs": [
    {
     "data": {
      "text/plain": [
       "<!--\n",
       "   Licensed to the Apache Software Foundation (ASF) under one or more\n",
       "   contributor license agreements.  See the NOTICE file distributed with\n",
       "   this work for additional information regarding copyright ownership.\n",
       "   The ASF licenses this file to You under the Apache License, Version 2.0\n",
       "   (the \"License\"); you may not use this file except in compliance with\n",
       "   the License.  You may obtain a copy of the License at\n",
       "\n",
       "        http://www.apache.org/licenses/LICENSE-2.0\n",
       "\n",
       "   Unless required by applicable law or agreed to in writing, software\n",
       "   distributed under the License is distributed on an \"AS IS\" BASIS,\n",
       "   WITHOUT WARRANTIES OR CONDITIONS OF ANY KIND, either express or implied.\n",
       "   See the License for the specific language governing permissions and\n",
       "   limitations under the License.\n",
       "-->\n",
       "<!-- prolog breaks internet explorer, WICKET-2718 -->\n",
       "<!-- < ? xml version=\"1.0\" encoding=\"UTF-8\" ? > -->\n",
       "<!DOCTYPE HTML PUBLIC \"-//W3C//DTD HTML 4.01 Transitional//EN\" \"http://www.w3.org/TR/html4/loose.dtd\">\n",
       "\n",
       "<html><head><meta content=\"0;URL=/internet/ordemdodia/mostrarIntegra.asp?CodTeor=2923746\" http-equiv=\"refresh\"/></head><body></body></html>"
      ]
     },
     "execution_count": 18,
     "metadata": {},
     "output_type": "execute_result"
    }
   ],
   "source": [
    "soup_topics"
   ]
  },
  {
   "cell_type": "markdown",
   "id": "8f351478",
   "metadata": {},
   "source": [
    "Obtemos que a URL disponível no site é inválida, na realidade ela mostra que é feito um redirecionamento automático para outra URL! Podemos utilizar esta outra URL novamente como uma URL base e alterar apenas o código que direciona para a pauta. URL que é direcionado: https://www.camara.leg.br/internet/ordemdodia/integras/"
   ]
  },
  {
   "cell_type": "code",
   "execution_count": 19,
   "id": "f6303efa",
   "metadata": {},
   "outputs": [
    {
     "data": {
      "text/plain": [
       "'https://www.camara.leg.br/internet/ordemdodia/integras/2923746.htm'"
      ]
     },
     "execution_count": 19,
     "metadata": {},
     "output_type": "execute_result"
    }
   ],
   "source": [
    "# Resgatar o ID que estava como query parameter na URL antiga\n",
    "parsed_url = urlparse(cleaned_links['Pauta'])\n",
    "query_params = parse_qs(parsed_url.query)\n",
    "\n",
    "codteor = query_params.get(\"codteor\", [None])[0]\n",
    "\n",
    "true_topics_url = f\"https://www.camara.leg.br/internet/ordemdodia/integras/{codteor}.htm\"\n",
    "true_topics_url"
   ]
  },
  {
   "cell_type": "code",
   "execution_count": 20,
   "id": "3b9fb3db",
   "metadata": {},
   "outputs": [],
   "source": [
    "headers = {\n",
    "    \"User-Agent\": \"Mozilla/5.0\"\n",
    "}\n",
    "\n",
    "response = requests.get(true_topics_url, headers=headers)\n",
    "\n",
    "if response.status_code != 200:\n",
    "    raise Exception(f\"Erro {response.status_code}\")\n",
    "\n",
    "soup_true_topics = BeautifulSoup(response.text, \"html.parser\")\n"
   ]
  },
  {
   "cell_type": "markdown",
   "id": "e0b58e92",
   "metadata": {},
   "source": [
    "Neste ponto temos que a Pauta possui uma diagramação de HTML muito bagunçada e cheia de divisões! Também não poderia garantir que todas as pautas possuiriam as mesmas áreas e tópicos de texto. Devido a isso decidi resgatar todo o texto como um grande bloco, possível posteriormente pegar \"a partir de tal palavra\", por hora dessa forma é suficiente."
   ]
  },
  {
   "cell_type": "code",
   "execution_count": 21,
   "id": "0fee6ee3",
   "metadata": {},
   "outputs": [
    {
     "name": "stdout",
     "output_type": "stream",
     "text": [
      "Pauta - CE - 01/07/2025 10:00\n",
      "CÂMARA DOS DEPUTADOS\n",
      "COMISSÃO DE EDUCAÇÃO\n",
      "57ª Legislatura - 3ª Sessão Legislativa Ordinária\n",
      "PAUTA DE\n",
      "REUNIÃO EXTRAORDINÁRIA\n",
      "AUDIÊNCIA PÚBLICA\n",
      "DIA 01/07/2025\n",
      "LOCAL:\n",
      "Plenário a definir\n",
      "HORÁRIO:\n",
      "10h\n",
      "TEMA:\n",
      "\"Adaptação das Estruturas Físicas das Escolas Frente às Mudanças Climáticas\"\n",
      "1)  (a Confirmar) Representante do Ministério da Educação (MEC);\n",
      "2) (a Confirmar) Representante do Ministério do Meio Ambiente e Mudança do Clima;\n",
      "3) (a Confirmar) Representante do Conselho Nacional de Secretários de Educação;\n",
      "4) (a Confirmar) Representante da União Nacional dos Dirigentes Municipais de Educação (Undime);\n",
      "5) CAYO ALCÂNTARA (Confirmado) - Professor e Diretor-Executivo de A Vida No Cerrado;\n",
      "6) HAROLDO ROCHA (Confirmado) - Representante do Instituto Península e do Movimento Profissão Docente ;\n",
      "7) (a Confirmar) Representante do Instituto Alana;\n",
      "(REQ 2/2025 CE, da deputada Socorro Neri)\n"
     ]
    }
   ],
   "source": [
    "# Extrai o texto visível da página, sem tags HTML\n",
    "topics_text = soup_true_topics.get_text(separator=\"\\n\", strip=True)\n",
    "\n",
    "print(topics_text[:2000])"
   ]
  },
  {
   "cell_type": "markdown",
   "id": "3c4ca50d",
   "metadata": {},
   "source": [
    "---\n",
    "\n",
    "Partindo para os requerimentos, temos que nas informações de detalhes do evento há URIs funcionais para acessá-los, a url direciona para um XML de detalhes e neste XML temos o caminho para o documento inteiro. Vamos resgatá-lo para salvarmos todo o texto e fazermos análise textual. Há a possibilidade de criarmos outro DataFrame com informações apenas dos requerimentos, uma vez que um evento pode ter vários."
   ]
  },
  {
   "cell_type": "code",
   "execution_count": 22,
   "id": "f1140e5d",
   "metadata": {},
   "outputs": [
    {
     "name": "stdout",
     "output_type": "stream",
     "text": [
      "{'dados': {'id': 2487727, 'uri': 'https://dadosabertos.camara.leg.br/api/v2/proposicoes/2487727', 'siglaTipo': 'REQ', 'codTipo': 294, 'numero': 2, 'ano': 2025, 'ementa': 'Requer a realização de Audiência Pública para discutir como as escolas estão adaptando suas estruturas físicas às mudanças climáticas.', 'dataApresentacao': '2025-03-19T12:38', 'uriOrgaoNumerador': None, 'statusProposicao': {'dataHora': '2025-03-26T10:00', 'sequencia': 2, 'siglaOrgao': 'CE', 'uriOrgao': 'https://dadosabertos.camara.leg.br/api/v2/orgaos/2009', 'uriUltimoRelator': None, 'regime': '.', 'descricaoTramitacao': 'Aprovação de Proposição Interna', 'codTipoTramitacao': '241', 'descricaoSituacao': 'Aguardando Providências Internas', 'codSituacao': 936, 'despacho': 'Aprovado o Requerimento, com subscrição das Deputadas Tabata Amaral e Carol Dartora e do Deputado Tarcísio Motta.', 'url': None, 'ambito': 'Regimental', 'apreciacao': 'Indefinida'}, 'uriAutores': 'https://dadosabertos.camara.leg.br/api/v2/proposicoes/2487727/autores', 'descricaoTipo': 'Requerimento de Audiência Pública', 'ementaDetalhada': None, 'keywords': None, 'uriPropPrincipal': None, 'uriPropAnterior': None, 'uriPropPosterior': None, 'urlInteiroTeor': 'https://www.camara.leg.br/proposicoesWeb/prop_mostrarintegra?codteor=2869237', 'urnFinal': None, 'texto': None, 'justificativa': None}, 'links': [{'rel': 'self', 'href': 'https://dadosabertos.camara.leg.br/api/v2/proposicoes/2487727'}]}\n"
     ]
    },
    {
     "data": {
      "text/plain": [
       "{'dados': {'id': 2487727,\n",
       "  'uri': 'https://dadosabertos.camara.leg.br/api/v2/proposicoes/2487727',\n",
       "  'siglaTipo': 'REQ',\n",
       "  'codTipo': 294,\n",
       "  'numero': 2,\n",
       "  'ano': 2025,\n",
       "  'ementa': 'Requer a realização de Audiência Pública para discutir como as escolas estão adaptando suas estruturas físicas às mudanças climáticas.',\n",
       "  'dataApresentacao': '2025-03-19T12:38',\n",
       "  'uriOrgaoNumerador': None,\n",
       "  'statusProposicao': {'dataHora': '2025-03-26T10:00',\n",
       "   'sequencia': 2,\n",
       "   'siglaOrgao': 'CE',\n",
       "   'uriOrgao': 'https://dadosabertos.camara.leg.br/api/v2/orgaos/2009',\n",
       "   'uriUltimoRelator': None,\n",
       "   'regime': '.',\n",
       "   'descricaoTramitacao': 'Aprovação de Proposição Interna',\n",
       "   'codTipoTramitacao': '241',\n",
       "   'descricaoSituacao': 'Aguardando Providências Internas',\n",
       "   'codSituacao': 936,\n",
       "   'despacho': 'Aprovado o Requerimento, com subscrição das Deputadas Tabata Amaral e Carol Dartora e do Deputado Tarcísio Motta.',\n",
       "   'url': None,\n",
       "   'ambito': 'Regimental',\n",
       "   'apreciacao': 'Indefinida'},\n",
       "  'uriAutores': 'https://dadosabertos.camara.leg.br/api/v2/proposicoes/2487727/autores',\n",
       "  'descricaoTipo': 'Requerimento de Audiência Pública',\n",
       "  'ementaDetalhada': None,\n",
       "  'keywords': None,\n",
       "  'uriPropPrincipal': None,\n",
       "  'uriPropAnterior': None,\n",
       "  'uriPropPosterior': None,\n",
       "  'urlInteiroTeor': 'https://www.camara.leg.br/proposicoesWeb/prop_mostrarintegra?codteor=2869237',\n",
       "  'urnFinal': None,\n",
       "  'texto': None,\n",
       "  'justificativa': None},\n",
       " 'links': [{'rel': 'self',\n",
       "   'href': 'https://dadosabertos.camara.leg.br/api/v2/proposicoes/2487727'}]}"
      ]
     },
     "execution_count": 22,
     "metadata": {},
     "output_type": "execute_result"
    }
   ],
   "source": [
    "motion_url = event_detail['dados']['requerimentos'][0]['uri']\n",
    "\n",
    "response_motion = requests.get(motion_url, headers={\"Accept\": \"application/json\"})\n",
    "\n",
    "if response_motion.status_code == 200:\n",
    "    print(response_motion.json())\n",
    "\n",
    "motion_detail = response_motion.json()\n",
    "\n",
    "motion_detail"
   ]
  },
  {
   "cell_type": "markdown",
   "id": "42182853",
   "metadata": {},
   "source": [
    "Do requerimento temos de interessante:  Ementa, Autores e URL de inteiro Teor.\n",
    "\n",
    "Até então temos a estrutura:\n",
    "- Evento\n",
    "  - Pode possuir vários requerimentos\n",
    "    - Um requerimento pode possuir vários autores.\n",
    "    - Possui uma pauta"
   ]
  },
  {
   "cell_type": "markdown",
   "id": "8a7450d4",
   "metadata": {},
   "source": [
    "Diferente das pautas que estão em HTML os documentos são lidos como PDF, ou seja, precisamos baixá-los e depois convertemos para um texto tratável."
   ]
  },
  {
   "cell_type": "code",
   "execution_count": 26,
   "id": "d2aab346",
   "metadata": {},
   "outputs": [
    {
     "name": "stdout",
     "output_type": "stream",
     "text": [
      "PDF baixado com sucesso.\n"
     ]
    }
   ],
   "source": [
    "import requests\n",
    "\n",
    "motions_folder = '../data/motions/'\n",
    "\n",
    "motion_pdf_url = motion_detail['dados']['urlInteiroTeor']\n",
    "\n",
    "headers = {\n",
    "    \"User-Agent\": \"Mozilla/5.0\",  # finge ser um navegador\n",
    "    \"Accept\": \"application/pdf\"\n",
    "}\n",
    "\n",
    "response_motion_pdf = requests.get(motion_pdf_url, headers=headers)\n",
    "\n",
    "motion_number = motion_detail['dados']['numero']\n",
    "motion_year = motion_detail['dados']['ano']\n",
    "\n",
    "pdf_name = os.path.join(motions_folder, f\"{motion_number}_{motion_year}.pdf\")\n",
    "\n",
    "if response_motion_pdf.status_code == 200:\n",
    "    with open(pdf_name, \"wb\") as f:\n",
    "        f.write(response_motion_pdf.content)\n",
    "    print(\"PDF baixado com sucesso.\")\n",
    "else:\n",
    "    print(f\"Erro {response_motion_pdf.status_code}\")\n"
   ]
  },
  {
   "cell_type": "markdown",
   "id": "be1f22cd",
   "metadata": {},
   "source": [
    "Vamos testar extrair o texto de um único documento."
   ]
  },
  {
   "cell_type": "code",
   "execution_count": 27,
   "id": "784cdcae",
   "metadata": {},
   "outputs": [
    {
     "name": "stdout",
     "output_type": "stream",
     "text": [
      "CÂMARA DOS DEPUTADOS\n",
      "Gabinete da Deputada Socorro Neri PP/AC\n",
      "\n",
      "COMISSÃO DE EDUCAÇÃO\n",
      "\n",
      "REQUERIMENTO Nº       , DE 2025\n",
      "(Da Sra. Socorro Neri)\n",
      "\n",
      "Requer   a   realização   de   Audiência   Pública\n",
      "para   discutir   como   as   escolas   estão\n",
      "adaptando   suas   estruturas   físicas   às\n",
      "mudanças climáticas.\n",
      "\n",
      "Senhor Presidente, \n",
      "\n",
      "Requeiro   a   Vossa   Excelência,   nos   termos   do   art.   24,   inciso   III   do\n",
      "Regimento   Interno   da   Câmara   dos   Deputados,   a   realização   de   Audiência\n",
      "Pública com a finalidade de debater como as instituições de ensino estão se\n",
      "adaptando às mudanças climáticas, investigando a existência e adequação de\n",
      "protocolos   específicos   para   a   garantia   do   conforto   térmico   e   bem-estar   de\n",
      "alunos, professores e demais funcionários.\n",
      "\n",
      "  Proponho   para   participar   desta   Audiência   Pública   os   seguintes\n",
      "\n",
      "convidados:\n",
      "\n",
      "1. Representante do Ministério da Educação (MEC);\n",
      "\n",
      "2. Representante do    Ministério do Meio Ambiente e Mudança do Clim\n"
     ]
    }
   ],
   "source": [
    "texto = extract_text(pdf_name)\n",
    "\n",
    "# Exibe os primeiros caracteres\n",
    "print(texto[:1000])"
   ]
  },
  {
   "cell_type": "markdown",
   "id": "b6bc091c",
   "metadata": {},
   "source": [
    "Com isso temos uma estrutura de resgate dos dados que desejamos! Para melhor Organizar a criação de dataframes, vamos repassar os códigos aqui desenvolvidos para scripts mais funcionais e organizados. Presentes na pasta `src`."
   ]
  }
 ],
 "metadata": {
  "kernelspec": {
   "display_name": "tcc-pos",
   "language": "python",
   "name": "python3"
  },
  "language_info": {
   "codemirror_mode": {
    "name": "ipython",
    "version": 3
   },
   "file_extension": ".py",
   "mimetype": "text/x-python",
   "name": "python",
   "nbconvert_exporter": "python",
   "pygments_lexer": "ipython3",
   "version": "3.12.11"
  }
 },
 "nbformat": 4,
 "nbformat_minor": 5
}
